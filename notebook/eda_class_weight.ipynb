{
 "cells": [
  {
   "cell_type": "markdown",
   "metadata": {},
   "source": [
    "## Class Weightを計算する\n",
    "\n",
    "1d/2d or 4ep/18epでCVとLBの傾向に乖離ができる原因がclass-balanceであると仮定する。\n",
    "class-balanceの効果を打ち消すようなweightをclassごとに設定して学習し、CV/LBの傾向がどう変わるかを確認する。\n",
    "classごとのweightはeegごとのweightをclassごとに平均することで計算する。"
   ]
  },
  {
   "cell_type": "code",
   "execution_count": 7,
   "metadata": {},
   "outputs": [],
   "source": [
    "from pathlib import Path\n",
    "\n",
    "import matplotlib.pyplot as plt\n",
    "import polars as pl\n",
    "\n",
    "from src.preprocess import process_label\n",
    "from src.constant import LABELS\n",
    "\n",
    "\n",
    "plt.style.use(\"tableau-colorblind10\")"
   ]
  },
  {
   "cell_type": "code",
   "execution_count": 2,
   "metadata": {},
   "outputs": [
    {
     "data": {
      "text/plain": [
       "[PosixPath('../../../input/hms-harmful-brain-activity-classification/test_eegs'),\n",
       " PosixPath('../../../input/hms-harmful-brain-activity-classification/test.csv'),\n",
       " PosixPath('../../../input/hms-harmful-brain-activity-classification/example_figures'),\n",
       " PosixPath('../../../input/hms-harmful-brain-activity-classification/test_spectrograms'),\n",
       " PosixPath('../../../input/hms-harmful-brain-activity-classification/train_spectrograms'),\n",
       " PosixPath('../../../input/hms-harmful-brain-activity-classification/sample_submission.csv'),\n",
       " PosixPath('../../../input/hms-harmful-brain-activity-classification/train_eegs'),\n",
       " PosixPath('../../../input/hms-harmful-brain-activity-classification/train.csv')]"
      ]
     },
     "execution_count": 2,
     "metadata": {},
     "output_type": "execute_result"
    }
   ],
   "source": [
    "data_dir = Path(\"../../../input/hms-harmful-brain-activity-classification\")\n",
    "list(data_dir.glob(\"*\"))"
   ]
  },
  {
   "cell_type": "code",
   "execution_count": 25,
   "metadata": {},
   "outputs": [
    {
     "data": {
      "text/html": [
       "<div><style>\n",
       ".dataframe > thead > tr,\n",
       ".dataframe > tbody > tr {\n",
       "  text-align: right;\n",
       "  white-space: pre-wrap;\n",
       "}\n",
       "</style>\n",
       "<small>shape: (1, 6)</small><table border=\"1\" class=\"dataframe\"><thead><tr><th>seizure_prob</th><th>lpd_prob</th><th>gpd_prob</th><th>lrda_prob</th><th>grda_prob</th><th>other_prob</th></tr><tr><td>f64</td><td>f64</td><td>f64</td><td>f64</td><td>f64</td><td>f64</td></tr></thead><tbody><tr><td>0.10051</td><td>0.163856</td><td>0.111289</td><td>0.068821</td><td>0.098882</td><td>0.456643</td></tr></tbody></table></div>"
      ],
      "text/plain": [
       "shape: (1, 6)\n",
       "┌──────────────┬──────────┬──────────┬───────────┬───────────┬────────────┐\n",
       "│ seizure_prob ┆ lpd_prob ┆ gpd_prob ┆ lrda_prob ┆ grda_prob ┆ other_prob │\n",
       "│ ---          ┆ ---      ┆ ---      ┆ ---       ┆ ---       ┆ ---        │\n",
       "│ f64          ┆ f64      ┆ f64      ┆ f64       ┆ f64       ┆ f64        │\n",
       "╞══════════════╪══════════╪══════════╪═══════════╪═══════════╪════════════╡\n",
       "│ 0.10051      ┆ 0.163856 ┆ 0.111289 ┆ 0.068821  ┆ 0.098882  ┆ 0.456643   │\n",
       "└──────────────┴──────────┴──────────┴───────────┴───────────┴────────────┘"
      ]
     },
     "execution_count": 25,
     "metadata": {},
     "output_type": "execute_result"
    }
   ],
   "source": [
    "metadata = pl.read_csv(data_dir / \"train.csv\")\n",
    "metadata = process_label(metadata)\n",
    "metadata = metadata.group_by(\"eeg_id\").agg(\n",
    "    *[pl.col(f\"{label}_prob_per_eeg\").first() for label in LABELS],\n",
    "    pl.col(\"weight_per_eeg\").first(),\n",
    ")\n",
    "metadata = metadata.with_columns(\n",
    "    pl.col(f\"{label}_prob_per_eeg\").mul(\"weight_per_eeg\").alias(f\"{label}_vote_per_eeg\")\n",
    "    for label in LABELS\n",
    ")\n",
    "meta_sum = metadata.sum()\n",
    "label_prob = meta_sum.with_columns(\n",
    "    pl.col(f\"{label}_vote_per_eeg\")\n",
    "    .truediv(pl.col(\"weight_per_eeg\"))\n",
    "    .alias(f\"{label}_prob\")\n",
    "    for label in LABELS\n",
    ").select(\"^.*_prob$\")\n",
    "label_prob"
   ]
  },
  {
   "cell_type": "code",
   "execution_count": 32,
   "metadata": {},
   "outputs": [
    {
     "data": {
      "text/plain": [
       "array([1.151, 0.706, 1.039, 1.681, 1.17 , 0.253])"
      ]
     },
     "execution_count": 32,
     "metadata": {},
     "output_type": "execute_result"
    }
   ],
   "source": [
    "prob = label_prob.to_numpy()[0]\n",
    "weight = 1 / prob\n",
    "weight /= weight.sum()\n",
    "weight *= 6\n",
    "weight.round(3)"
   ]
  }
 ],
 "metadata": {
  "kernelspec": {
   "display_name": "Python 3",
   "language": "python",
   "name": "python3"
  },
  "language_info": {
   "codemirror_mode": {
    "name": "ipython",
    "version": 3
   },
   "file_extension": ".py",
   "mimetype": "text/x-python",
   "name": "python",
   "nbconvert_exporter": "python",
   "pygments_lexer": "ipython3",
   "version": "3.10.12"
  }
 },
 "nbformat": 4,
 "nbformat_minor": 2
}
