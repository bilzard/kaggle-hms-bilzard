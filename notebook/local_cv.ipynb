{
 "cells": [
  {
   "cell_type": "code",
   "execution_count": 235,
   "id": "511aca34",
   "metadata": {
    "execution": {
     "iopub.execute_input": "2024-04-01T12:56:53.739867Z",
     "iopub.status.busy": "2024-04-01T12:56:53.738787Z",
     "iopub.status.idle": "2024-04-01T12:56:56.384699Z",
     "shell.execute_reply": "2024-04-01T12:56:56.383272Z"
    },
    "papermill": {
     "duration": 2.65721,
     "end_time": "2024-04-01T12:56:56.388207",
     "exception": false,
     "start_time": "2024-04-01T12:56:53.730997",
     "status": "completed"
    },
    "tags": []
   },
   "outputs": [],
   "source": [
    "import warnings\n",
    "from functools import partial\n",
    "from glob import glob\n",
    "from pathlib import Path\n",
    "\n",
    "import matplotlib.pyplot as plt\n",
    "import numpy as np\n",
    "import pandas as pd\n",
    "import polars as pl\n",
    "from scipy.optimize import minimize\n",
    "from scipy.special import softmax\n",
    "\n",
    "warnings.simplefilter(\"ignore\")\n",
    "\n",
    "\n",
    "def sigmoid(x):\n",
    "    return 1 / (1 + np.exp(-x))\n",
    "\n",
    "\n",
    "pd.set_option(\"display.max_columns\", 100)\n",
    "\n",
    "\n",
    "def kl_divergence(gts, preds, ds_weights=None, class_weights=None):\n",
    "    if ds_weights is None:\n",
    "        ds_weights = np.ones(len(preds)).astype(np.float64)\n",
    "    if class_weights is None:\n",
    "        class_weights = np.ones(6).astype(np.float64).reshape(1, -1)\n",
    "\n",
    "    preds = softmax(preds, axis=1)\n",
    "    score = gts * np.log(gts / preds)\n",
    "\n",
    "    score = (score * class_weights).sum(axis=1) / class_weights.sum() * 6\n",
    "\n",
    "    score = np.average(score, weights=ds_weights)\n",
    "\n",
    "    return score\n",
    "\n",
    "\n",
    "def loss_fn(weights, gts, preds, ds_weights, class_weights):\n",
    "    final_preds = 0\n",
    "    weights = np.array(weights) / np.sum(weights)\n",
    "    for weight, pred in zip(weights, preds):\n",
    "        final_preds += weight * pred\n",
    "    score = kl_divergence(\n",
    "        gts=gts, preds=final_preds, ds_weights=ds_weights, class_weights=class_weights\n",
    "    )\n",
    "    return score\n",
    "\n",
    "\n",
    "def round_to_nearest(x, base=0.05):\n",
    "    return base * np.round(x / base)"
   ]
  },
  {
   "cell_type": "markdown",
   "id": "9459b9c0",
   "metadata": {
    "papermill": {
     "duration": 0.004913,
     "end_time": "2024-04-01T12:56:56.398331",
     "exception": false,
     "start_time": "2024-04-01T12:56:56.393418",
     "status": "completed"
    },
    "tags": []
   },
   "source": [
    "# gt"
   ]
  },
  {
   "cell_type": "code",
   "execution_count": 256,
   "id": "675b0c5e",
   "metadata": {},
   "outputs": [
    {
     "data": {
      "text/html": [
       "<div><style>\n",
       ".dataframe > thead > tr,\n",
       ".dataframe > tbody > tr {\n",
       "  text-align: right;\n",
       "  white-space: pre-wrap;\n",
       "}\n",
       "</style>\n",
       "<small>shape: (5, 9)</small><table border=\"1\" class=\"dataframe\"><thead><tr><th>eeg_id</th><th>seizure_vote</th><th>lpd_vote</th><th>gpd_vote</th><th>lrda_vote</th><th>grda_vote</th><th>other_vote</th><th>num_votes</th><th>ds_weight</th></tr><tr><td>i64</td><td>f64</td><td>f64</td><td>f64</td><td>f64</td><td>f64</td><td>f64</td><td>f64</td><td>f64</td></tr></thead><tbody><tr><td>1628180742</td><td>1.0</td><td>0.0</td><td>0.0</td><td>0.0</td><td>0.0</td><td>0.0</td><td>3.0</td><td>0.0</td></tr><tr><td>2277392603</td><td>0.0</td><td>0.0</td><td>0.454545</td><td>0.0</td><td>0.090909</td><td>0.454545</td><td>11.0</td><td>1.0</td></tr><tr><td>722738444</td><td>0.0</td><td>0.0625</td><td>0.0</td><td>0.875</td><td>0.0</td><td>0.0625</td><td>16.0</td><td>1.0</td></tr><tr><td>387987538</td><td>0.0</td><td>0.0</td><td>0.0</td><td>1.0</td><td>0.0</td><td>0.0</td><td>3.0</td><td>0.0</td></tr><tr><td>2175806584</td><td>1.0</td><td>0.0</td><td>0.0</td><td>0.0</td><td>0.0</td><td>0.0</td><td>3.0</td><td>0.0</td></tr></tbody></table></div>"
      ],
      "text/plain": [
       "shape: (5, 9)\n",
       "┌────────────┬───────────┬──────────┬──────────┬───┬───────────┬───────────┬───────────┬───────────┐\n",
       "│ eeg_id     ┆ seizure_v ┆ lpd_vote ┆ gpd_vote ┆ … ┆ grda_vote ┆ other_vot ┆ num_votes ┆ ds_weight │\n",
       "│ ---        ┆ ote       ┆ ---      ┆ ---      ┆   ┆ ---       ┆ e         ┆ ---       ┆ ---       │\n",
       "│ i64        ┆ ---       ┆ f64      ┆ f64      ┆   ┆ f64       ┆ ---       ┆ f64       ┆ f64       │\n",
       "│            ┆ f64       ┆          ┆          ┆   ┆           ┆ f64       ┆           ┆           │\n",
       "╞════════════╪═══════════╪══════════╪══════════╪═══╪═══════════╪═══════════╪═══════════╪═══════════╡\n",
       "│ 1628180742 ┆ 1.0       ┆ 0.0      ┆ 0.0      ┆ … ┆ 0.0       ┆ 0.0       ┆ 3.0       ┆ 0.0       │\n",
       "│ 2277392603 ┆ 0.0       ┆ 0.0      ┆ 0.454545 ┆ … ┆ 0.090909  ┆ 0.454545  ┆ 11.0      ┆ 1.0       │\n",
       "│ 722738444  ┆ 0.0       ┆ 0.0625   ┆ 0.0      ┆ … ┆ 0.0       ┆ 0.0625    ┆ 16.0      ┆ 1.0       │\n",
       "│ 387987538  ┆ 0.0       ┆ 0.0      ┆ 0.0      ┆ … ┆ 0.0       ┆ 0.0       ┆ 3.0       ┆ 0.0       │\n",
       "│ 2175806584 ┆ 1.0       ┆ 0.0      ┆ 0.0      ┆ … ┆ 0.0       ┆ 0.0       ┆ 3.0       ┆ 0.0       │\n",
       "└────────────┴───────────┴──────────┴──────────┴───┴───────────┴───────────┴───────────┴───────────┘"
      ]
     },
     "metadata": {},
     "output_type": "display_data"
    },
    {
     "data": {
      "image/jpeg": "[encoded data removed]",
      "text/plain": [
       "<Figure size 640x480 with 1 Axes>"
      ]
     },
     "metadata": {},
     "output_type": "display_data"
    }
   ],
   "source": [
    "# 一旦 5939件\n",
    "cols = [\"seizure_vote\", \"lpd_vote\", \"gpd_vote\", \"lrda_vote\", \"grda_vote\", \"other_vote\"]\n",
    "df = pl.read_csv(\"/ml-docker/input/hms-harmful-brain-activity-classification/train.csv\")\n",
    "eps = 1e-10\n",
    "lb, ub = 4, 9\n",
    "lq_ratio = 0.0\n",
    "agg_policy = \"mean\"\n",
    "class_weights = np.array([1.33, 1.0, 1.0, 1.36, 1.38, 0.77])\n",
    "\n",
    "votes = df.select(cols).to_numpy()\n",
    "df = df.with_columns(\n",
    "    pl.Series(votes.sum(axis=1)).alias(\"num_votes\"),\n",
    ")\n",
    "\n",
    "if agg_policy == \"weighted-mean\":\n",
    "    true_df = (\n",
    "        df.group_by(\"eeg_id\", maintain_order=True)\n",
    "        .agg(\n",
    "            *[pl.col(col).mul(\"num_votes\").sum().alias(col) for col in cols],\n",
    "            pl.col(\"num_votes\").sum().alias(\"sum_num_votes_per_eeg\"),\n",
    "        )\n",
    "        .with_columns(\n",
    "            *[\n",
    "                pl.col(col).truediv(pl.col(\"sum_num_votes_per_eeg\")).alias(col)\n",
    "                for col in cols\n",
    "            ],\n",
    "        )\n",
    "    )\n",
    "elif agg_policy == \"mean\":\n",
    "    true_df = df.group_by(\"eeg_id\", maintain_order=True).agg(\n",
    "        *[pl.col(col).mean() for col in cols],\n",
    "    )\n",
    "elif agg_policy == \"max\":\n",
    "    true_df = df.group_by(\"eeg_id\", maintain_order=True).agg(\n",
    "        *[pl.col(col).max() for col in cols],\n",
    "    )\n",
    "else:\n",
    "    raise ValueError(f\"Invalid aggregation policy: {agg_policy}\")\n",
    "\n",
    "# voteの正規化\n",
    "votes = true_df.select(cols).to_numpy()\n",
    "true_df = true_df.with_columns(\n",
    "    pl.Series(votes.sum(axis=1)).alias(\"num_votes\"),\n",
    ").with_columns(pl.col(col).truediv(\"num_votes\").alias(col) for col in cols)\n",
    "\n",
    "true_df = true_df.with_columns(\n",
    "    pl.when(pl.col(\"num_votes\").ge(ub))\n",
    "    .then(pl.lit(1 - lq_ratio))\n",
    "    .otherwise(\n",
    "        pl.when(pl.col(\"num_votes\").ge(lb))\n",
    "        .then(pl.lit(lq_ratio))\n",
    "        .otherwise(pl.lit(0.0))\n",
    "    )\n",
    "    .alias(\"ds_weight\")\n",
    ")\n",
    "\n",
    "gts = true_df.sort(\"eeg_id\")[cols].to_numpy() + eps\n",
    "clean_eeg_ids = true_df[\"eeg_id\"].unique()\n",
    "true_df[\"num_votes\"].to_pandas().plot.hist(bins=100)\n",
    "display(true_df.head())\n",
    "plt.show()"
   ]
  },
  {
   "cell_type": "markdown",
   "id": "e69b71f1",
   "metadata": {
    "papermill": {
     "duration": 0.004508,
     "end_time": "2024-04-01T12:57:23.586162",
     "exception": false,
     "start_time": "2024-04-01T12:57:23.581654",
     "status": "completed"
    },
    "tags": []
   },
   "source": [
    "# oof"
   ]
  },
  {
   "cell_type": "code",
   "execution_count": 251,
   "id": "a909cdf8",
   "metadata": {
    "execution": {
     "iopub.execute_input": "2024-04-01T12:57:23.599094Z",
     "iopub.status.busy": "2024-04-01T12:57:23.598620Z",
     "iopub.status.idle": "2024-04-01T12:57:31.880117Z",
     "shell.execute_reply": "2024-04-01T12:57:31.877451Z"
    },
    "papermill": {
     "duration": 8.29225,
     "end_time": "2024-04-01T12:57:31.883273",
     "exception": false,
     "start_time": "2024-04-01T12:57:23.591023",
     "status": "completed"
    },
    "tags": []
   },
   "outputs": [
    {
     "name": "stdout",
     "output_type": "stream",
     "text": [
      "ariyasu:\n",
      "17089 finetune_hms_chris_fmax30_50sec_16ims_bandpass 0.222\n",
      "17089 finetune_hms_chris_fmax30_30sec_8ims_bandpass 0.2227\n",
      "17089 finetune_hms_chris_fmax30_30sec_8ims_bandpass_spe_and_eeg 0.2227\n",
      "17089 finetune_hms_chris_fmax90_10sec_8ims_bandpass_spe_and_eeg 0.2407\n",
      "----------------------------------------------------------------------------------------------------\n",
      "tattaka:\n",
      "inception_next_tiny_384_el30_mixup_50ep 0.2484\n",
      "tiny_vit_21m_384_el30_mixup_50ep 0.2385\n",
      "caformer_s18_2_5d_256_el30_mixup_100ep 0.236\n",
      "resnetrs50_2_5d_192_el30_mixup_100ep 0.245\n",
      "swinv2_tiny_window16_2_5d_256_el30_mixup_100ep 0.2405\n",
      "----------------------------------------------------------------------------------------------------\n",
      "bilzard:\n",
      "eeg022_16ep_sc03c 0.2395\n",
      "v5_panns_12ep_sc03c 0.2567\n",
      "v5_eeg_24ep_cutmix 0.2297\n",
      "v5_spec_bg_8ep 0.2498\n",
      "----------------------------------------------------------------------------------------------------\n"
     ]
    }
   ],
   "source": [
    "# ariyasu\n",
    "print(\"ariyasu:\")\n",
    "configs = [\n",
    "    \"finetune_hms_chris_fmax30_50sec_16ims_bandpass\",\n",
    "    \"finetune_hms_chris_fmax30_30sec_8ims_bandpass\",\n",
    "    \"finetune_hms_chris_fmax30_30sec_8ims_bandpass_spe_and_eeg\",\n",
    "    \"finetune_hms_chris_fmax90_10sec_8ims_bandpass_spe_and_eeg\",\n",
    "]\n",
    "true_cols = [\"seizure\", \"lpd\", \"gpd\", \"lrda\", \"grda\", \"other\"]\n",
    "pred_cols = [f\"pred_{c}\" for c in true_cols]\n",
    "preds = []\n",
    "folds = range(5)\n",
    "for config in configs:\n",
    "    oof = pl.read_csv(\n",
    "        f\"/ml-docker/input/yujiariyasu/oof-by-kaggle-note/{config}.csv\"\n",
    "    ).sort(\"eeg_id\")\n",
    "    oof = oof.filter(pl.col(\"eeg_id\").is_in(clean_eeg_ids)).sort(\"eeg_id\")\n",
    "    oof = oof.join(\n",
    "        true_df.select(\"eeg_id\", \"ds_weight\"), on=\"eeg_id\", how=\"inner\"\n",
    "    ).sort(\"eeg_id\")\n",
    "    oof = oof.to_pandas()\n",
    "    pr = oof[pred_cols].to_numpy()\n",
    "    score = kl_divergence(gts, pr, ds_weights=oof.ds_weight.values, class_weights=class_weights)\n",
    "    print(len(oof), config, round(score, 4))\n",
    "    preds.append(pr)\n",
    "oof[true_cols] = gts - 1e-10\n",
    "print(\"-\" * 100)\n",
    "\n",
    "# tattaka\n",
    "print(\"tattaka:\")\n",
    "cols = [\n",
    "    \"oof_logits_seizure_vote\",\n",
    "    \"oof_logits_lpd_vote\",\n",
    "    \"oof_logits_gpd_vote\",\n",
    "    \"oof_logits_lrda_vote\",\n",
    "    \"oof_logits_grda_vote\",\n",
    "    \"oof_logits_other_vote\",\n",
    "]\n",
    "exp_dirs = [\n",
    "    #     \"/kaggle/input/hms-weights-2/exp092/inception_next_tiny_384_el30_mixup_50ep\",\n",
    "    #     \"/kaggle/input/hms-weights-2/exp092/tiny_vit_21m_384_el30_mixup_50ep\",\n",
    "    #     \"/kaggle/input/hms-weights-2/exp094/caformer_s18_2_5d_256_el30_mixup_100ep\",\n",
    "    #     \"/kaggle/input/hms-weights-2/exp094/resnetrs50_2_5d_192_el30_mixup_100ep\",\n",
    "    #     \"/kaggle/input/hms-weights-2/exp094/swinv2_tiny_window16_2_5d_256_el30_mixup_100ep\",\n",
    "    \"/ml-docker/input/tattaka/hms-weights-3/exp137/inception_next_tiny_384_el30_mixup_50ep\",\n",
    "    \"/ml-docker/input/tattaka/hms-weights-3/exp137/tiny_vit_21m_384_el30_mixup_50ep\",\n",
    "    \"/ml-docker/input/tattaka/hms-weights-3/exp138/caformer_s18_2_5d_256_el30_mixup_100ep\",\n",
    "    \"/ml-docker/input/tattaka/hms-weights-3/exp138/resnetrs50_2_5d_192_el30_mixup_100ep\",\n",
    "    \"/ml-docker/input/tattaka/hms-weights-3/exp138/swinv2_tiny_window16_2_5d_256_el30_mixup_100ep\",\n",
    "    #     \"/kaggle/input/hms-weights-2/exp108/convnext_large_384_el40_mixup_50ep\",\n",
    "]\n",
    "for exp_dir in exp_dirs:\n",
    "    df = pd.read_csv(glob(f\"{exp_dir}/**/result_df.csv\", recursive=True)[0])\n",
    "    df_hq = df[df.num_votes > 7].groupby(\"eeg_id\").first().reset_index()\n",
    "    df_lw = df[df.num_votes <= 7].groupby(\"eeg_id\").first().reset_index()\n",
    "    df_lw = df_lw[~df_lw.eeg_id.isin(df_hq.eeg_id)]\n",
    "    df = pd.concat([df_hq, df_lw])\n",
    "    c = exp_dir.split(\"/\")[-1]\n",
    "    df = df[df.eeg_id.isin(oof.eeg_id)].sort_values(\"eeg_id\")\n",
    "    pr = df[cols].values\n",
    "    preds.append(pr)\n",
    "    configs.append(c)\n",
    "    score = kl_divergence(gts, pr, ds_weights=oof.ds_weight.values, class_weights=class_weights)\n",
    "    print(c, round(score, 4))\n",
    "print(\"-\" * 100)\n",
    "\n",
    "# bilzard\n",
    "print(\"bilzard:\")\n",
    "cols = [\n",
    "    \"pl_seizure_vote\",\n",
    "    \"pl_lpd_vote\",\n",
    "    \"pl_gpd_vote\",\n",
    "    \"pl_lrda_vote\",\n",
    "    \"pl_grda_vote\",\n",
    "    \"pl_other_vote\",\n",
    "]\n",
    "for c in [\n",
    "    \"eeg022_16ep_sc03c\",\n",
    "    \"v5_panns_12ep_sc03c\",\n",
    "    \"v5_eeg_24ep_cutmix\",\n",
    "    \"v5_spec_bg_8ep\",\n",
    "]:\n",
    "    df = pd.read_parquet(\n",
    "        f\"/ml-docker/working/kaggle-hms-bilzard/data/pseudo_label/{c}/train_pseudo_label.pqt\"\n",
    "    ).sort_values(\"eeg_id\")\n",
    "    df = df[df.eeg_id.isin(oof.eeg_id)].sort_values(\"eeg_id\")\n",
    "    pr = df[cols].values\n",
    "    oof[pred_cols] = pr\n",
    "    score = kl_divergence(gts, pr, ds_weights=oof.ds_weight.values, class_weights=class_weights)\n",
    "    preds.append(pr)\n",
    "    configs.append(c)\n",
    "    print(c, round(score, 4))\n",
    "\n",
    "print(\"-\" * 100)"
   ]
  },
  {
   "cell_type": "markdown",
   "id": "d7cd2e85",
   "metadata": {
    "papermill": {
     "duration": 0.005464,
     "end_time": "2024-04-01T12:57:31.894700",
     "exception": false,
     "start_time": "2024-04-01T12:57:31.889236",
     "status": "completed"
    },
    "tags": []
   },
   "source": [
    "# Nelder-Mead"
   ]
  },
  {
   "cell_type": "code",
   "execution_count": 252,
   "id": "eb7a46d4",
   "metadata": {
    "execution": {
     "iopub.execute_input": "2024-04-01T12:57:31.908729Z",
     "iopub.status.busy": "2024-04-01T12:57:31.907814Z",
     "iopub.status.idle": "2024-04-01T12:57:36.374634Z",
     "shell.execute_reply": "2024-04-01T12:57:36.373246Z"
    },
    "papermill": {
     "duration": 4.477468,
     "end_time": "2024-04-01T12:57:36.378058",
     "exception": false,
     "start_time": "2024-04-01T12:57:31.900590",
     "status": "completed"
    },
    "tags": []
   },
   "outputs": [],
   "source": [
    "starting_weights = [1 / len(preds)] * len(preds)\n",
    "constraints = {\"type\": \"eq\", \"fun\": lambda w: 1 - sum(w)}\n",
    "bounds = [(0, 1)] * (len(preds))\n",
    "res = minimize(\n",
    "    partial(\n",
    "        loss_fn,\n",
    "        gts=gts,\n",
    "        preds=preds,\n",
    "        ds_weights=oof[\"ds_weight\"].to_numpy(),\n",
    "        class_weights=class_weights,\n",
    "    ),\n",
    "    starting_weights,\n",
    "    method=\"Nelder-Mead\",\n",
    "    bounds=bounds,\n",
    "    constraints=constraints,\n",
    ")"
   ]
  },
  {
   "cell_type": "code",
   "execution_count": 253,
   "id": "7136d455",
   "metadata": {},
   "outputs": [
    {
     "data": {
      "text/plain": [
       "(0.1945,\n",
       " array([2.10835739e-01, 1.31496669e-01, 1.53035252e-01, 1.01645015e-01,\n",
       "        8.68520734e-06, 1.15585540e-01, 1.79002007e-01, 5.17650019e-07,\n",
       "        2.65019040e-04, 8.24002523e-08, 0.00000000e+00, 2.68248144e-01,\n",
       "        2.67346808e-05]))"
      ]
     },
     "execution_count": 253,
     "metadata": {},
     "output_type": "execute_result"
    }
   ],
   "source": [
    "round(res[\"fun\"], 4), res[\"x\"]"
   ]
  },
  {
   "cell_type": "code",
   "execution_count": 254,
   "id": "f69b4fc7",
   "metadata": {},
   "outputs": [],
   "source": [
    "opt = res[\"x\"].copy()\n",
    "opt_old = np.array(\n",
    "    [\n",
    "        0.24543949,\n",
    "        0.13689485,\n",
    "        0.16187137,\n",
    "        0.10738459,\n",
    "        0.02167115,\n",
    "        0.15755226,\n",
    "        0.19887966,\n",
    "        0.01746818,\n",
    "        0.02361924,\n",
    "        0.13611772,\n",
    "        0.06941763,\n",
    "        0.2068315,\n",
    "        0.00395194,\n",
    "    ]\n",
    ")"
   ]
  },
  {
   "cell_type": "code",
   "execution_count": 255,
   "id": "f858f6a6",
   "metadata": {
    "execution": {
     "iopub.execute_input": "2024-04-01T12:57:36.417475Z",
     "iopub.status.busy": "2024-04-01T12:57:36.416993Z",
     "iopub.status.idle": "2024-04-01T12:57:36.488365Z",
     "shell.execute_reply": "2024-04-01T12:57:36.486881Z"
    },
    "papermill": {
     "duration": 0.081874,
     "end_time": "2024-04-01T12:57:36.491457",
     "exception": false,
     "start_time": "2024-04-01T12:57:36.409583",
     "status": "completed"
    },
    "tags": []
   },
   "outputs": [
    {
     "name": "stdout",
     "output_type": "stream",
     "text": [
      "weights:\n",
      "finetune_hms_chris_fmax30_50sec_16ims_bandpass 0.1817\n",
      "finetune_hms_chris_fmax30_30sec_8ims_bandpass 0.1133\n",
      "finetune_hms_chris_fmax30_30sec_8ims_bandpass_spe_and_eeg 0.1319\n",
      "finetune_hms_chris_fmax90_10sec_8ims_bandpass_spe_and_eeg 0.0876\n",
      "inception_next_tiny_384_el30_mixup_50ep 0.0\n",
      "tiny_vit_21m_384_el30_mixup_50ep 0.0996\n",
      "caformer_s18_2_5d_256_el30_mixup_100ep 0.1543\n",
      "resnetrs50_2_5d_192_el30_mixup_100ep 0.0\n",
      "swinv2_tiny_window16_2_5d_256_el30_mixup_100ep 0.0002\n",
      "eeg022_16ep_sc03c 0.0\n",
      "v5_panns_12ep_sc03c 0.0\n",
      "v5_eeg_24ep_cutmix 0.2312\n",
      "v5_spec_bg_8ep 0.0\n",
      "best_score(old_weight): 0.1957\n",
      "best_score: 0.1945\n"
     ]
    }
   ],
   "source": [
    "# print\n",
    "model_weights = opt / np.sum(opt)\n",
    "model_weights_old = opt_old / np.sum(opt_old)\n",
    "print(\"weights:\")\n",
    "for w, c in zip(model_weights, configs):\n",
    "    print(c, round(w, 4))\n",
    "\n",
    "score = loss_fn(\n",
    "    model_weights_old,\n",
    "    gts,\n",
    "    preds,\n",
    "    oof[\"ds_weight\"].to_numpy(),\n",
    "    class_weights=class_weights,\n",
    ")\n",
    "print(f\"best_score(old_weight): {round(score, 4)}\")\n",
    "\n",
    "score = loss_fn(\n",
    "    model_weights, gts, preds, oof[\"ds_weight\"].to_numpy(), class_weights=class_weights\n",
    ")\n",
    "print(f\"best_score: {round(score, 4)}\")"
   ]
  }
 ],
 "metadata": {
  "kaggle": {
   "accelerator": "none",
   "dataSources": [
    {
     "databundleVersionId": 7469972,
     "sourceId": 59093,
     "sourceType": "competition"
    },
    {
     "datasetId": 4297749,
     "sourceId": 7392733,
     "sourceType": "datasetVersion"
    },
    {
     "datasetId": 4652811,
     "sourceId": 7970528,
     "sourceType": "datasetVersion"
    },
    {
     "datasetId": 4596419,
     "sourceId": 7979206,
     "sourceType": "datasetVersion"
    },
    {
     "datasetId": 4703503,
     "sourceId": 7989915,
     "sourceType": "datasetVersion"
    },
    {
     "datasetId": 4708755,
     "sourceId": 7997234,
     "sourceType": "datasetVersion"
    }
   ],
   "dockerImageVersionId": 30673,
   "isGpuEnabled": false,
   "isInternetEnabled": true,
   "language": "python",
   "sourceType": "notebook"
  },
  "kernelspec": {
   "display_name": "Python 3",
   "language": "python",
   "name": "python3"
  },
  "language_info": {
   "codemirror_mode": {
    "name": "ipython",
    "version": 3
   },
   "file_extension": ".py",
   "mimetype": "text/x-python",
   "name": "python",
   "nbconvert_exporter": "python",
   "pygments_lexer": "ipython3",
   "version": "3.10.12"
  },
  "papermill": {
   "default_parameters": {},
   "duration": 47.570094,
   "end_time": "2024-04-01T12:57:37.734706",
   "environment_variables": {},
   "exception": null,
   "input_path": "__notebook__.ipynb",
   "output_path": "__notebook__.ipynb",
   "parameters": {},
   "start_time": "2024-04-01T12:56:50.164612",
   "version": "2.5.0"
  }
 },
 "nbformat": 4,
 "nbformat_minor": 5
}
