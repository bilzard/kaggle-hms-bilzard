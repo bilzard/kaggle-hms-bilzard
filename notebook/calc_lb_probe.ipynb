{
 "cells": [
  {
   "cell_type": "code",
   "execution_count": 2,
   "metadata": {},
   "outputs": [
    {
     "name": "stdout",
     "output_type": "stream",
     "text": [
      "y = 0.6: x ≈ 0.41915736589523633\n",
      "y = 0.55: x ≈ 0.48976304054812203\n",
      "y = 0.65: x ≈ 0.3577874215217127\n",
      "y = 0.58: x ≈ 0.44611267888975714\n",
      "y = 0.67: x ≈ 0.33524778161027485\n"
     ]
    }
   ],
   "source": [
    "from scipy.optimize import fsolve\n",
    "\n",
    "\n",
    "def func(x, y):\n",
    "    return 1.09 - 1.64 * x + 1.28 * x**2 - 0.373 * x**3 - y\n",
    "\n",
    "\n",
    "y_values = [0.6, 0.55, 0.65, 0.58, 0.67]\n",
    "\n",
    "for y in y_values:\n",
    "    x_guess = 0\n",
    "    x_solution = fsolve(func, x_guess, args=(y))\n",
    "    print(f\"y = {y}: x ≈ {x_solution[0]}\")"
   ]
  }
 ],
 "metadata": {
  "kernelspec": {
   "display_name": "Python 3",
   "language": "python",
   "name": "python3"
  },
  "language_info": {
   "codemirror_mode": {
    "name": "ipython",
    "version": 3
   },
   "file_extension": ".py",
   "mimetype": "text/x-python",
   "name": "python",
   "nbconvert_exporter": "python",
   "pygments_lexer": "ipython3",
   "version": "3.10.12"
  }
 },
 "nbformat": 4,
 "nbformat_minor": 2
}
